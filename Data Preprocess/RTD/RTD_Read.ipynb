{
 "cells": [
  {
   "cell_type": "code",
   "execution_count": 1,
   "metadata": {},
   "outputs": [],
   "source": [
    "import numpy as np \n",
    "import pandas as pd \n",
    "import datetime\n",
    "from datetime import datetime\n",
    "from datetime import datetime, timedelta\n",
    "from tqdm import tqdm_notebook as tqdm\n",
    "import calendar\n",
    "from multiprocessing import Pool, TimeoutError, Lock, Value, current_process, cpu_count\n",
    "from functools import partial\n",
    "\n",
    "import RTD_Preprocess_function as func"
   ]
  },
  {
   "cell_type": "code",
   "execution_count": 2,
   "metadata": {
    "scrolled": true
   },
   "outputs": [
    {
     "data": {
      "application/vnd.jupyter.widget-view+json": {
       "model_id": "8cb4f569947e405190bdda6ef2d68c41",
       "version_major": 2,
       "version_minor": 0
      },
      "text/plain": [
       "HBox(children=(IntProgress(value=0, max=807833), HTML(value='')))"
      ]
     },
     "metadata": {},
     "output_type": "display_data"
    },
    {
     "name": "stdout",
     "output_type": "stream",
     "text": [
      "\n"
     ]
    }
   ],
   "source": [
    "data = func.ReadRTD('D:\\Strategic_Trading\\PriceForecast\\data\\RTD\\RTD.txt')"
   ]
  },
  {
   "cell_type": "code",
   "execution_count": 3,
   "metadata": {},
   "outputs": [
    {
     "data": {
      "application/vnd.jupyter.widget-view+json": {
       "model_id": "9ca9bda71015421ebe595fbcfe9e8849",
       "version_major": 2,
       "version_minor": 0
      },
      "text/plain": [
       "HBox(children=(IntProgress(value=0, max=2707), HTML(value='')))"
      ]
     },
     "metadata": {},
     "output_type": "display_data"
    },
    {
     "name": "stdout",
     "output_type": "stream",
     "text": [
      "\n"
     ]
    }
   ],
   "source": [
    "df_list = [group[1] for group in data.groupby(data[\"ts\"].dt.date)]\n",
    "timelist = data[\"ts\"].dt.time.unique().tolist()\n",
    "fill_list = []\n",
    "\n",
    "if __name__ == '__main__':\n",
    "    with Pool(processes=12) as pool:\n",
    "        for i, x in enumerate(tqdm(pool.imap_unordered(partial(func.FillMissingTime, timelist=timelist), df_list), total=len(df_list)), 1):\n",
    "                fill_list.append(x)\n",
    "\n",
    "df = pd.concat(fill_list)"
   ]
  },
  {
   "cell_type": "code",
   "execution_count": 5,
   "metadata": {},
   "outputs": [
    {
     "data": {
      "text/html": [
       "<div>\n",
       "<style scoped>\n",
       "    .dataframe tbody tr th:only-of-type {\n",
       "        vertical-align: middle;\n",
       "    }\n",
       "\n",
       "    .dataframe tbody tr th {\n",
       "        vertical-align: top;\n",
       "    }\n",
       "\n",
       "    .dataframe thead th {\n",
       "        text-align: right;\n",
       "    }\n",
       "</style>\n",
       "<table border=\"1\" class=\"dataframe\">\n",
       "  <thead>\n",
       "    <tr style=\"text-align: right;\">\n",
       "      <th></th>\n",
       "      <th>ts</th>\n",
       "      <th>open</th>\n",
       "      <th>high</th>\n",
       "      <th>low</th>\n",
       "      <th>close</th>\n",
       "      <th>vol</th>\n",
       "    </tr>\n",
       "  </thead>\n",
       "  <tbody>\n",
       "    <tr>\n",
       "      <td>0</td>\n",
       "      <td>2006-01-02 08:46:00</td>\n",
       "      <td>6451</td>\n",
       "      <td>6490</td>\n",
       "      <td>6411</td>\n",
       "      <td>6478</td>\n",
       "      <td>775</td>\n",
       "    </tr>\n",
       "    <tr>\n",
       "      <td>1</td>\n",
       "      <td>2006-01-02 08:47:00</td>\n",
       "      <td>6470</td>\n",
       "      <td>6480</td>\n",
       "      <td>6465</td>\n",
       "      <td>6470</td>\n",
       "      <td>589</td>\n",
       "    </tr>\n",
       "    <tr>\n",
       "      <td>2</td>\n",
       "      <td>2006-01-02 08:48:00</td>\n",
       "      <td>6472</td>\n",
       "      <td>6473</td>\n",
       "      <td>6461</td>\n",
       "      <td>6465</td>\n",
       "      <td>633</td>\n",
       "    </tr>\n",
       "    <tr>\n",
       "      <td>3</td>\n",
       "      <td>2006-01-02 08:49:00</td>\n",
       "      <td>6464</td>\n",
       "      <td>6467</td>\n",
       "      <td>6456</td>\n",
       "      <td>6457</td>\n",
       "      <td>681</td>\n",
       "    </tr>\n",
       "    <tr>\n",
       "      <td>4</td>\n",
       "      <td>2006-01-02 08:50:00</td>\n",
       "      <td>6460</td>\n",
       "      <td>6463</td>\n",
       "      <td>6452</td>\n",
       "      <td>6455</td>\n",
       "      <td>385</td>\n",
       "    </tr>\n",
       "    <tr>\n",
       "      <td>...</td>\n",
       "      <td>...</td>\n",
       "      <td>...</td>\n",
       "      <td>...</td>\n",
       "      <td>...</td>\n",
       "      <td>...</td>\n",
       "      <td>...</td>\n",
       "    </tr>\n",
       "    <tr>\n",
       "      <td>812095</td>\n",
       "      <td>2016-12-30 13:41:00</td>\n",
       "      <td>9261</td>\n",
       "      <td>9262</td>\n",
       "      <td>9260</td>\n",
       "      <td>9262</td>\n",
       "      <td>442</td>\n",
       "    </tr>\n",
       "    <tr>\n",
       "      <td>812096</td>\n",
       "      <td>2016-12-30 13:42:00</td>\n",
       "      <td>9261</td>\n",
       "      <td>9262</td>\n",
       "      <td>9261</td>\n",
       "      <td>9261</td>\n",
       "      <td>275</td>\n",
       "    </tr>\n",
       "    <tr>\n",
       "      <td>812097</td>\n",
       "      <td>2016-12-30 13:43:00</td>\n",
       "      <td>9261</td>\n",
       "      <td>9263</td>\n",
       "      <td>9261</td>\n",
       "      <td>9262</td>\n",
       "      <td>672</td>\n",
       "    </tr>\n",
       "    <tr>\n",
       "      <td>812098</td>\n",
       "      <td>2016-12-30 13:44:00</td>\n",
       "      <td>9261</td>\n",
       "      <td>9263</td>\n",
       "      <td>9261</td>\n",
       "      <td>9261</td>\n",
       "      <td>646</td>\n",
       "    </tr>\n",
       "    <tr>\n",
       "      <td>812099</td>\n",
       "      <td>2016-12-30 13:45:00</td>\n",
       "      <td>9263</td>\n",
       "      <td>9264</td>\n",
       "      <td>9261</td>\n",
       "      <td>9262</td>\n",
       "      <td>1048</td>\n",
       "    </tr>\n",
       "  </tbody>\n",
       "</table>\n",
       "<p>812100 rows × 6 columns</p>\n",
       "</div>"
      ],
      "text/plain": [
       "                        ts  open  high   low close   vol\n",
       "0      2006-01-02 08:46:00  6451  6490  6411  6478   775\n",
       "1      2006-01-02 08:47:00  6470  6480  6465  6470   589\n",
       "2      2006-01-02 08:48:00  6472  6473  6461  6465   633\n",
       "3      2006-01-02 08:49:00  6464  6467  6456  6457   681\n",
       "4      2006-01-02 08:50:00  6460  6463  6452  6455   385\n",
       "...                    ...   ...   ...   ...   ...   ...\n",
       "812095 2016-12-30 13:41:00  9261  9262  9260  9262   442\n",
       "812096 2016-12-30 13:42:00  9261  9262  9261  9261   275\n",
       "812097 2016-12-30 13:43:00  9261  9263  9261  9262   672\n",
       "812098 2016-12-30 13:44:00  9261  9263  9261  9261   646\n",
       "812099 2016-12-30 13:45:00  9263  9264  9261  9262  1048\n",
       "\n",
       "[812100 rows x 6 columns]"
      ]
     },
     "execution_count": 5,
     "metadata": {},
     "output_type": "execute_result"
    }
   ],
   "source": [
    "df = df.sort_values(by=['ts'])\n",
    "df = df.reset_index(drop=True)\n",
    "df"
   ]
  },
  {
   "cell_type": "code",
   "execution_count": 6,
   "metadata": {},
   "outputs": [],
   "source": [
    "df.to_csv('D:\\Strategic_Trading\\PriceForecast\\data\\RTD\\RTD.csv', index=False)"
   ]
  },
  {
   "cell_type": "code",
   "execution_count": null,
   "metadata": {},
   "outputs": [],
   "source": []
  }
 ],
 "metadata": {
  "kernelspec": {
   "display_name": "Python (tf-gpu)",
   "language": "python",
   "name": "tf-gpu"
  },
  "language_info": {
   "codemirror_mode": {
    "name": "ipython",
    "version": 3
   },
   "file_extension": ".py",
   "mimetype": "text/x-python",
   "name": "python",
   "nbconvert_exporter": "python",
   "pygments_lexer": "ipython3",
   "version": "3.6.9"
  }
 },
 "nbformat": 4,
 "nbformat_minor": 2
}
