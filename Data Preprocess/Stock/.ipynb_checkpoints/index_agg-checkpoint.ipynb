{
 "cells": [
  {
   "cell_type": "code",
   "execution_count": 9,
   "metadata": {},
   "outputs": [],
   "source": [
    "import numpy as np \n",
    "import pandas as pd \n",
    "import os \n",
    "import datetime\n",
    "from datetime import datetime\n",
    "from tqdm import tqdm_notebook as tqdm\n",
    "from multiprocessing import Pool, TimeoutError, Lock, Value, current_process, cpu_count\n",
    "import data_preprocess_function as func\n",
    "from functools import partial"
   ]
  },
  {
   "cell_type": "code",
   "execution_count": 10,
   "metadata": {},
   "outputs": [
    {
     "data": {
      "application/vnd.jupyter.widget-view+json": {
       "model_id": "64fd10ddd30f4f7fa0f2e861b14c13cc",
       "version_major": 2,
       "version_minor": 0
      },
      "text/plain": [
       "HBox(children=(IntProgress(value=0, max=1494), HTML(value='')))"
      ]
     },
     "metadata": {},
     "output_type": "display_data"
    }
   ],
   "source": [
    "#Read Index Data\n",
    "filepath = \"D:\\\\Strategic_Trading\\\\index\\\\price\\\\\"\n",
    "file_list = os.listdir(filepath)\n",
    "df_list = []\n",
    "\n",
    "if __name__ == '__main__':\n",
    "    with Pool(processes=12) as pool:\n",
    "        for i, x in enumerate(tqdm(pool.imap_unordered(func.read_and_join, file_list), total=len(file_list)), 1):\n",
    "            df_list.append(x)\n",
    "            \n",
    "data = pd.concat(df_list)"
   ]
  },
  {
   "cell_type": "code",
   "execution_count": 11,
   "metadata": {},
   "outputs": [],
   "source": [
    "data['this_volume'] = data['累積成交數量']-data['累積成交數量'].shift(periods=1,fill_value=0)\n",
    "data.loc[(data['時間']=='09:00:00'),'this_volume'] = 0"
   ]
  },
  {
   "cell_type": "code",
   "execution_count": 12,
   "metadata": {},
   "outputs": [
    {
     "data": {
      "application/vnd.jupyter.widget-view+json": {
       "model_id": "fd6d75978fb4420c9e75bb33384b5823",
       "version_major": 2,
       "version_minor": 0
      },
      "text/plain": [
       "HBox(children=(IntProgress(value=0, max=1494), HTML(value='')))"
      ]
     },
     "metadata": {},
     "output_type": "display_data"
    }
   ],
   "source": [
    "df_list = [group[1] for group in data.groupby('日期')]\n",
    "OHLCV_list = []\n",
    "\n",
    "if __name__ == '__main__':\n",
    "    with Pool(processes=12) as pool:\n",
    "        for i, x in enumerate(tqdm(pool.imap_unordered(partial(func.OHLCV_index, frequency=1), df_list), total=len(df_list)), 1):\n",
    "                OHLCV_list.append(x)\n",
    "\n",
    "df = pd.concat(OHLCV_list)"
   ]
  },
  {
   "cell_type": "code",
   "execution_count": 16,
   "metadata": {},
   "outputs": [],
   "source": [
    "df = df.reset_index()\n",
    "df.columns = [\"ts\", \"open_index\", \"high_index\", \"low_index\", \"close_index\", \"vol_index\"]\n",
    "df = df.sort_values(by=['ts'])"
   ]
  },
  {
   "cell_type": "code",
   "execution_count": 25,
   "metadata": {},
   "outputs": [
    {
     "name": "stderr",
     "output_type": "stream",
     "text": [
      "C:\\Users\\011553\\AppData\\Local\\Continuum\\anaconda3\\envs\\tf-gpu\\lib\\site-packages\\ipykernel_launcher.py:2: SettingWithCopyWarning: \n",
      "A value is trying to be set on a copy of a slice from a DataFrame\n",
      "\n",
      "See the caveats in the documentation: http://pandas.pydata.org/pandas-docs/stable/user_guide/indexing.html#returning-a-view-versus-a-copy\n",
      "  \n"
     ]
    }
   ],
   "source": [
    "df[\"return_index\"] = df[\"close_index\"] - df[\"close_index\"].shift(periods=1)"
   ]
  },
  {
   "cell_type": "code",
   "execution_count": 26,
   "metadata": {},
   "outputs": [
    {
     "data": {
      "text/html": [
       "<div>\n",
       "<style scoped>\n",
       "    .dataframe tbody tr th:only-of-type {\n",
       "        vertical-align: middle;\n",
       "    }\n",
       "\n",
       "    .dataframe tbody tr th {\n",
       "        vertical-align: top;\n",
       "    }\n",
       "\n",
       "    .dataframe thead th {\n",
       "        text-align: right;\n",
       "    }\n",
       "</style>\n",
       "<table border=\"1\" class=\"dataframe\">\n",
       "  <thead>\n",
       "    <tr style=\"text-align: right;\">\n",
       "      <th></th>\n",
       "      <th>ts</th>\n",
       "      <th>open_index</th>\n",
       "      <th>high_index</th>\n",
       "      <th>low_index</th>\n",
       "      <th>close_index</th>\n",
       "      <th>vol_index</th>\n",
       "      <th>return_index</th>\n",
       "    </tr>\n",
       "  </thead>\n",
       "  <tbody>\n",
       "    <tr>\n",
       "      <td>2981</td>\n",
       "      <td>2013-07-01 09:00:00</td>\n",
       "      <td>8062.21</td>\n",
       "      <td>8062.21</td>\n",
       "      <td>8001.59</td>\n",
       "      <td>8001.59</td>\n",
       "      <td>63737</td>\n",
       "      <td>NaN</td>\n",
       "    </tr>\n",
       "    <tr>\n",
       "      <td>2982</td>\n",
       "      <td>2013-07-01 09:01:00</td>\n",
       "      <td>7999.10</td>\n",
       "      <td>7999.10</td>\n",
       "      <td>7986.50</td>\n",
       "      <td>7986.50</td>\n",
       "      <td>24203</td>\n",
       "      <td>-15.09</td>\n",
       "    </tr>\n",
       "    <tr>\n",
       "      <td>2983</td>\n",
       "      <td>2013-07-01 09:02:00</td>\n",
       "      <td>7977.51</td>\n",
       "      <td>7977.51</td>\n",
       "      <td>7974.79</td>\n",
       "      <td>7975.63</td>\n",
       "      <td>25091</td>\n",
       "      <td>-10.87</td>\n",
       "    </tr>\n",
       "    <tr>\n",
       "      <td>2984</td>\n",
       "      <td>2013-07-01 09:03:00</td>\n",
       "      <td>7974.19</td>\n",
       "      <td>7974.39</td>\n",
       "      <td>7974.15</td>\n",
       "      <td>7974.39</td>\n",
       "      <td>32681</td>\n",
       "      <td>-1.24</td>\n",
       "    </tr>\n",
       "    <tr>\n",
       "      <td>2985</td>\n",
       "      <td>2013-07-01 09:04:00</td>\n",
       "      <td>7975.86</td>\n",
       "      <td>7985.52</td>\n",
       "      <td>7975.86</td>\n",
       "      <td>7985.52</td>\n",
       "      <td>34843</td>\n",
       "      <td>11.13</td>\n",
       "    </tr>\n",
       "    <tr>\n",
       "      <td>...</td>\n",
       "      <td>...</td>\n",
       "      <td>...</td>\n",
       "      <td>...</td>\n",
       "      <td>...</td>\n",
       "      <td>...</td>\n",
       "      <td>...</td>\n",
       "      <td>...</td>\n",
       "    </tr>\n",
       "    <tr>\n",
       "      <td>404869</td>\n",
       "      <td>2019-07-29 13:26:00</td>\n",
       "      <td>10904.60</td>\n",
       "      <td>10904.60</td>\n",
       "      <td>10904.60</td>\n",
       "      <td>10904.60</td>\n",
       "      <td>0</td>\n",
       "      <td>0.00</td>\n",
       "    </tr>\n",
       "    <tr>\n",
       "      <td>404870</td>\n",
       "      <td>2019-07-29 13:27:00</td>\n",
       "      <td>10904.60</td>\n",
       "      <td>10904.60</td>\n",
       "      <td>10904.60</td>\n",
       "      <td>10904.60</td>\n",
       "      <td>0</td>\n",
       "      <td>0.00</td>\n",
       "    </tr>\n",
       "    <tr>\n",
       "      <td>404871</td>\n",
       "      <td>2019-07-29 13:28:00</td>\n",
       "      <td>10904.60</td>\n",
       "      <td>10904.60</td>\n",
       "      <td>10904.60</td>\n",
       "      <td>10904.60</td>\n",
       "      <td>0</td>\n",
       "      <td>0.00</td>\n",
       "    </tr>\n",
       "    <tr>\n",
       "      <td>404872</td>\n",
       "      <td>2019-07-29 13:29:00</td>\n",
       "      <td>10904.60</td>\n",
       "      <td>10904.60</td>\n",
       "      <td>10904.60</td>\n",
       "      <td>10904.60</td>\n",
       "      <td>0</td>\n",
       "      <td>0.00</td>\n",
       "    </tr>\n",
       "    <tr>\n",
       "      <td>404873</td>\n",
       "      <td>2019-07-29 13:30:00</td>\n",
       "      <td>10885.73</td>\n",
       "      <td>10885.73</td>\n",
       "      <td>10885.73</td>\n",
       "      <td>10885.73</td>\n",
       "      <td>160082</td>\n",
       "      <td>-18.87</td>\n",
       "    </tr>\n",
       "  </tbody>\n",
       "</table>\n",
       "<p>404874 rows × 7 columns</p>\n",
       "</div>"
      ],
      "text/plain": [
       "                        ts  open_index  high_index  low_index  close_index  \\\n",
       "2981   2013-07-01 09:00:00     8062.21     8062.21    8001.59      8001.59   \n",
       "2982   2013-07-01 09:01:00     7999.10     7999.10    7986.50      7986.50   \n",
       "2983   2013-07-01 09:02:00     7977.51     7977.51    7974.79      7975.63   \n",
       "2984   2013-07-01 09:03:00     7974.19     7974.39    7974.15      7974.39   \n",
       "2985   2013-07-01 09:04:00     7975.86     7985.52    7975.86      7985.52   \n",
       "...                    ...         ...         ...        ...          ...   \n",
       "404869 2019-07-29 13:26:00    10904.60    10904.60   10904.60     10904.60   \n",
       "404870 2019-07-29 13:27:00    10904.60    10904.60   10904.60     10904.60   \n",
       "404871 2019-07-29 13:28:00    10904.60    10904.60   10904.60     10904.60   \n",
       "404872 2019-07-29 13:29:00    10904.60    10904.60   10904.60     10904.60   \n",
       "404873 2019-07-29 13:30:00    10885.73    10885.73   10885.73     10885.73   \n",
       "\n",
       "        vol_index  return_index  \n",
       "2981        63737           NaN  \n",
       "2982        24203        -15.09  \n",
       "2983        25091        -10.87  \n",
       "2984        32681         -1.24  \n",
       "2985        34843         11.13  \n",
       "...           ...           ...  \n",
       "404869          0          0.00  \n",
       "404870          0          0.00  \n",
       "404871          0          0.00  \n",
       "404872          0          0.00  \n",
       "404873     160082        -18.87  \n",
       "\n",
       "[404874 rows x 7 columns]"
      ]
     },
     "execution_count": 26,
     "metadata": {},
     "output_type": "execute_result"
    }
   ],
   "source": [
    "df"
   ]
  },
  {
   "cell_type": "code",
   "execution_count": null,
   "metadata": {},
   "outputs": [],
   "source": [
    "df.to_csv(\"D:\\\\Strategic_Trading\\\\index\\\\min_agg_all.csv\", index=False)"
   ]
  }
 ],
 "metadata": {
  "kernelspec": {
   "display_name": "Python (tf-gpu)",
   "language": "python",
   "name": "tf-gpu"
  },
  "language_info": {
   "codemirror_mode": {
    "name": "ipython",
    "version": 3
   },
   "file_extension": ".py",
   "mimetype": "text/x-python",
   "name": "python",
   "nbconvert_exporter": "python",
   "pygments_lexer": "ipython3",
   "version": "3.6.9"
  }
 },
 "nbformat": 4,
 "nbformat_minor": 2
}
